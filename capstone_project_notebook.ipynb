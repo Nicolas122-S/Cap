This notebook would be utilised for building the Capstone Project
In:import pandas as pd
In:import numpy as np
In:print('Hello Capstone Project Course!')
out:Hello Capstone Project Course!
